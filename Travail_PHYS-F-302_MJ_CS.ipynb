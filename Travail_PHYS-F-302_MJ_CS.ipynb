{
 "cells": [
  {
   "cell_type": "markdown",
   "metadata": {},
   "source": [
    "<h1><center>PHYS-F-302</center></h1>\n",
    "<h1><center>Partie numérique</center></h1>\n",
    "<h2><center>Cédric SCHOONEN, Maxime JAMOTTE</center></h2>"
   ]
  },
  {
   "cell_type": "markdown",
   "metadata": {},
   "source": [
    "## Justification physique des conditions aux bords"
   ]
  },
  {
   "cell_type": "markdown",
   "metadata": {},
   "source": [
    "Notre système est délimité par un côté mobile, se déplaçant à une vitesse de $1$ m/s, et trois autres immobiles. Selon l'énoncé du problème, les dérivées de la stream function sont nulles sur ces derniers $(\\frac{\\partial \\psi }{\\partial x} = \\frac{\\partial \\psi }{\\partial y} = 0 )$ et $\\frac{\\partial \\psi }{\\partial y}$ vaut 1 m/s le long du côté mobile. \n",
    "\n",
    "Premièrement, visualisons microscopiquement ce qui se déroule à proximité des parois, tant bien auprès de celles immobiles qu'en mouvement. Nos particules du fluide vont interagir non seulement entre elles mais également avec les bords, et ce de moins en moins intensément au fur et à mesure qu'elles sont éloignées de ceux-ci. Dans notre problème, nous réduisons l'interaction fluide-bord à la première couche de particules. Nous justifions les valeurs des dérivées dans les directions tangentielles aux parois par un argument de non glissement des particules sur les bords. Par les interactions existant entre les parois et les particules, les plus proches des bords parmi ces dernières vont rester fixes par rapport aux parois. Ceci implique en effet que la composante tangentielle de la vitesse de la stream function sur le bord mobile vaut 1 tandis que celle sur les autres bords vaut 0.\n",
    "\n",
    "Ensuite, nous considérons nos parois imperméables, ce qui nous donne des vitesses dans les directions normales à la paroi nulles également. Ceci implique que la stream function est constante le long des parois immobiles. Puisque cette fonction est un potentiel défini à une constante près, nous pouvons décider qu'elle soit nulle sur un des bords . Par cntinuité, elle devra être nulle sur tous les bords. \n",
    "\n",
    "De ceci, nous vérifions que les conditions aux bords qui ont été choisies correspondent à la situation physique décrite."
   ]
  },
  {
   "cell_type": "markdown",
   "metadata": {},
   "source": [
    "## Discrétisation de l'opérateur bilaplacien\n",
    "\n",
    "Le bilaplacien de $\\psi$ à discrétiser s'écrit comme $\\Delta^2\\psi = \\partial_{xxxx}\\psi + 2\\partial_{xxyy}\\psi + \\partial_{yyyy}\\psi$ en supposant $\\psi$ suffisamment régulière.\n",
    "\n",
    "Nous pouvons exprimer les dérivées d'ordre 2 et 4 dans les directions $x,y$ de la façon suivante:\n",
    "\n",
    "$$ \\partial_{xx}\\psi_{i,j} = \\frac{ \\psi_{i,j+1} -2 \\psi_{i,j} + \\psi_{i,j-1} }{ (dx)^2 } + \\cal O((dx)^2) $$\n",
    "\n",
    "$$ \\partial_{yy}\\psi_{i,j} = \\frac{ \\psi_{i-1,j} -2 \\psi_{i,j} + \\psi_{i+1,j} }{ (dy)^2 } + \\cal O((dy)^2) $$\n",
    "\n",
    "$$ \\partial_{xxxx}\\psi_{i,j} = \\frac{ \\psi_{i,j+2} -4 \\psi_{i,j+1} +6 \\psi_{i,j} -4\\psi_{i,j-1} + \\psi_{i,j-2} }{ (dx)^4 } + \\cal O((dx)^2) $$\n",
    "\n",
    "$$ \\partial_{yyyy}\\psi_{i,j} = \\frac{ \\psi_{i-2,j} -4 \\psi_{i-1,j} +6 \\psi_{i,j} -4\\psi_{i+1,j} + \\psi_{i+2,j} }{ (dy)^4 } + \\cal O((dy)^2) $$\n",
    "\n",
    "Les discrétisations des dérivées secondes sont utiles pour trouver celle de la dérivée croisée $\\partial_{xxyy}\\psi$:\n",
    "\n",
    "$$ \\partial_{xxyy}\\psi_{i,j} = \\frac{ \\partial_{yy}\\psi_{i,j+1} -2 \\partial_{yy}\\psi_{i,j} + \\partial_{yy}\\psi_{i,j-1} }{ (dx)^2 } + \\cal O((dx)^2) $$\n",
    "\n",
    "En remplaçant, cela donne\n",
    "\n",
    "$$ \\partial_{xxyy}\\psi_{i,j} = \\frac{ \\frac{\\psi_{i-1,j+1} -2 \\psi_{i,j+1} + \\psi_{i+1,j+1}}{(dy)^2} + \\cal O((dy)^2)\n",
    "                                    -2\\frac{\\psi_{i-1,j  } -2 \\psi_{i,j  } + \\psi_{i+1,j  }}{(dy)^2} + \\cal O((dy)^2)\n",
    "                                    + \\frac{\\psi_{i-1,j-1} -2 \\psi_{i,j-1} + \\psi_{i+1,j-1}}{(dy)^2} + \\cal O((dy)^2)\n",
    "                                    }{(dx)^2} + \\cal O((dx)^2) $$\n",
    "$$ \\partial_{xxyy}\\psi_{i,j} = \\frac{\\psi_{i-1,j+1}  -2 \\psi_{i,j+1} +  \\psi_{i+1,j+1}\n",
    "                                     -2 \\psi_{i-1,j} +4 \\psi_{i-1,j} -2 \\psi_{i+1,j}\n",
    "                                     \\psi_{i-1,j-1}  -2 \\psi_{i,j-1} +  \\psi_{i+1,j-1}\n",
    "                                     }{(dx)^2(dy)^2} + \\cal O((dx)^2) + \\cal O((dy)^2) + \\cal O\\left(\\frac{(dx)^4}{(dy)^2}\\right) $$       \n",
    "                                     \n",
    "Les coefficients sont plus facilement visualisés dans le tableau suivant:\n",
    "\n",
    "|     || j-1 |  j  | j+1 |\n",
    "|-----||-----|-----|-----|\n",
    "| i-1 ||  1  | -2  |  1  |\n",
    "|  i  || -2  |  4  | -2  |\n",
    "| i+1 ||  1  | -2  |  1  |\n",
    "\n",
    "Notons qu'il est laborieux de montrer que les termes en $\\cal O((dx)^2)$ du numérateur se simplifient pour donner une erreur en $\\cal O\\left(\\frac{(dx)^4}{(dy)^2}\\right)$. De plus, cette preuve nous semble dénuée d'intérêt pour le sujet c'est pourquoi nous ne l'écrirons pas ici. Cependant, l'ayant faite, nous sommes interrogeables sur le sujet.\n",
    "\n",
    "Les coefficients pour le bilaplacien se résument donc *dans le cas où $dx$ = $dy$* par:\n",
    "\n",
    "|     || j-2 | j-1 |  j  | j+1 | j+2 |\n",
    "|-----||-----|-----|-----|-----|-----|\n",
    "| i-2 ||     |     |  1  |     |     |\n",
    "| i-1 ||     |  2  | -8  |  2  |     |\n",
    "|  i  ||  1  | -8  | 20  | -8  |  1  |\n",
    "| i+1 ||     |  2  | -8  |  2  |     |\n",
    "| i+2 ||     |     |  1  |     |     |"
   ]
  },
  {
   "cell_type": "markdown",
   "metadata": {
    "collapsed": true
   },
   "source": [
    "## Discrétisation des conditions aux bords\n",
    "\n",
    "Nous avons deux conditions aux bords à discrétiser. La première est $\\psi = 0$, que nous implémentons de manière évidente et correcte à tous les ordres comme \n",
    "\n",
    "$$\\psi_{i,0} = \\psi_{i,N-1} = \\psi_{0,j} = \\psi_{N-1,j} = 0 \\quad \\forall i,j=0,...,N-1$$\n",
    "\n",
    "La deuxième condition aux bords est portée sur les dérivées de $\\psi$ et prend des expressions diférentes suivant le bord en question. La condition sur le bord situé en $x=0$ est $\\partial_x\\psi = 0$. Nous la discrétisons en considérant une approximation à l'ordre 1 de type forward de la dérivée en $x=0$:\n",
    "\n",
    "$$ 0 = \\partial_x\\psi_{i,0} = \\frac{-\\psi_{i,0} + \\psi_{i,1}}{dx} + \\mathcal O(dx) $$\n",
    "$$ \\psi_{i,1} = \\psi_{i,0} + dx\\, \\mathcal O(dx) = 0 + \\mathcal O((dx)^2)$$\n",
    "\n",
    "Nous voyons que cela revient à considérer $\\psi_{i,1} = 0$ en commettant une erreur d'ordre 2, qui est bien l'ordre ciblé. Il est facile de voir que ce raisonnement se généralise à tous les côtés. Nous détaillons encore le côté supérieur pour lequel la condition est légèrement différente.\n",
    "\n",
    "$$ 1 = \\partial_y\\psi_{N-1,j} = \\frac{-\\psi_{N-2,j} + \\psi_{N-1,j}}{dy} + \\mathcal O(dy) $$\n",
    "$$ \\psi_{N-2,j} = \\psi_{N-1,j} - dy + dy\\, \\mathcal O(dy) = -dy + \\mathcal O((dy)^2)$$\n",
    "\n",
    "Nos conditions sur les dérivées se résument donc de la façon suivante:\n",
    "\n",
    "$$ \\psi_{i,1} \\ \\ \\ \\, = \\ \\ \\ \\ \\,   0 + \\cal O((dx)^2) $$\n",
    "$$ \\psi_{i,N-2}        = \\ \\ \\ \\ \\,  0 + \\cal O((dx)^2) $$\n",
    "$$ \\psi_{N-2,j}        = \\ \\ \\ \\ \\,  0 + \\cal O((dy)^2) $$\n",
    "$$ \\psi_{N-2,j}        = -dy + \\mathcal O((dy)^2) $$\n",
    "\n",
    "Remarquons que l'imposition des conditions aux bords est incohérentes pour les 2 points $(N-2,1)$ et $(N-2,N-2)$ situés près des coins. En effet, ceux-ci se retrouvent deux fois dans les formules ci-dessus et se voient imposées deux valeurs différentes: $0$ et $-dy$. Ceci amène un choix arbitraire dans notre code concernant la valeur à utiliser. Cependant, ceci n'est pas un problème physique car dans la limite $N\\rightarrow \\infty$, $-dy\\rightarrow 0$ et les deux valeurs coïncident. Il nous a donc semblé plus naturel d'imposer la valeur $0$."
   ]
  },
  {
   "cell_type": "markdown",
   "metadata": {},
   "source": [
    "## Implémentation de la méthode du gradient conjugé"
   ]
  },
  {
   "cell_type": "code",
   "execution_count": 1,
   "metadata": {},
   "outputs": [],
   "source": [
    "import time\n",
    "from matplotlib import pyplot\n",
    "import numpy\n",
    "%matplotlib inline\n",
    "from matplotlib import rcParams\n",
    "rcParams['font.family'] = 'serif'\n",
    "rcParams['font.size'] = 16\n",
    "from matplotlib import pyplot, cm"
   ]
  },
  {
   "cell_type": "markdown",
   "metadata": {},
   "source": [
    "Nous importons des fonctions prédéfinies dans le mooc pour la méthode du gradient conjugé."
   ]
  },
  {
   "cell_type": "code",
   "execution_count": 2,
   "metadata": {},
   "outputs": [],
   "source": [
    "import Conjugate_Gradient as cg"
   ]
  },
  {
   "cell_type": "markdown",
   "metadata": {},
   "source": [
    "Nous implémentons maintenant le bilaplacien discrétisé plus haut. Comme les conditions aux bords fixent les valeurs pour les deux rangées de points extérieurs, nous ne calculons le bilaplacien que dans un carré centré de taille $(N-4)\\times (N-4)$. Les conditions aux bords sont donc automatiquement fixées."
   ]
  },
  {
   "cell_type": "code",
   "execution_count": 3,
   "metadata": {},
   "outputs": [],
   "source": [
    "def bilaplacian(p,dx):\n",
    "        \n",
    "    N = p.shape[0]\n",
    "    Ap = numpy.zeros((N,N))\n",
    "    \n",
    "    Ap[2:-2,2:-2] = 20*p[2:-2,2:-2]-8*(p[1:-3,2:-2]+p[2:-2,1:-3]+p[2:-2,3:-1]+p[3:-1,2:-2])+\\\n",
    "                    2*(p[1:-3,1:-3]+p[1:-3,3:-1]+p[3:-1,1:-3]+p[3:-1,3:-1])+\\\n",
    "                    1*(p[:-4,2:-2]+p[2:-2,:-4]+p[2:-2,4:]+p[4:,2:-2])\n",
    "    \n",
    "    return Ap/dx**4"
   ]
  },
  {
   "cell_type": "markdown",
   "metadata": {},
   "source": [
    "Nous récupérons et adaptons le code du mooc à notre problème."
   ]
  },
  {
   "cell_type": "code",
   "execution_count": 4,
   "metadata": {},
   "outputs": [],
   "source": [
    "def conjugate_gradient_2d(p, b, dx, l1_target):\n",
    "    '''Performs cg relaxation\n",
    "    Assumes Dirichlet boundary conditions p=0\n",
    "    \n",
    "    Parameters:\n",
    "    ----------\n",
    "    p : 2D array of floats\n",
    "        Initial guess\n",
    "    b : 2D array of floats\n",
    "        Source term\n",
    "    dx: float\n",
    "        Mesh spacing (same in both directions)\n",
    "    l1_target: float\n",
    "        exit criterion\n",
    "        \n",
    "    Returns:\n",
    "    -------\n",
    "    p: 2D array of float\n",
    "        Distribution after relaxation\n",
    "    '''\n",
    "    N = p.shape[0]\n",
    "    r  = numpy.zeros((N,N)) # residual\n",
    "    Ad  = numpy.zeros((N,N)) # to store result of matrix multiplication \n",
    "    \n",
    "    l1_norm = 1\n",
    "    iterations = 0\n",
    "    l1_conv = []\n",
    "    \n",
    "    # Step-0 We compute the initial residual and \n",
    "    # the first search direction is just this residual\n",
    "    \n",
    "    r = b-bilaplacian(p,dx)\n",
    "    d = r.copy()\n",
    "    rho = numpy.sum(r*r)\n",
    "    Ad = bilaplacian(d,dx)\n",
    "    sigma = numpy.sum(d*Ad)\n",
    "    \n",
    "    # Iterations\n",
    "    while l1_norm > l1_target:\n",
    "\n",
    "        pk = p.copy()\n",
    "        rk = r.copy()\n",
    "        dk = d.copy()\n",
    "        \n",
    "        alpha = rho/sigma\n",
    "\n",
    "        p = pk + alpha*dk\n",
    "        r = rk- alpha*Ad\n",
    "        \n",
    "        rhop1 = numpy.sum(r*r)\n",
    "        beta = rhop1 / rho\n",
    "        rho = rhop1\n",
    "        \n",
    "        d = r + beta*dk\n",
    "        Ad = bilaplacian(d,dx)\n",
    "        sigma = numpy.sum(d*Ad)\n",
    "        \n",
    "        # BCs are automatically enforced\n",
    "    \n",
    "        l1_norm = cg.L1norm(pk,p)\n",
    "        iterations += 1\n",
    "        l1_conv.append(l1_norm)\n",
    "    \n",
    "    print('Number of CG iterations: {0:d}'.format(iterations))\n",
    "    return p, l1_conv   "
   ]
  },
  {
   "cell_type": "markdown",
   "metadata": {},
   "source": [
    "## Calcul de la stream function qui respecte $\\Delta^2\\psi=0$"
   ]
  },
  {
   "cell_type": "markdown",
   "metadata": {},
   "source": [
    "Nous utilisons les paramètres (taille de grille, dimensions spatiales, précision désirée) imposées dans l'énoncé. "
   ]
  },
  {
   "cell_type": "code",
   "execution_count": 5,
   "metadata": {},
   "outputs": [],
   "source": [
    "N = 41\n",
    "L = 1\n",
    "l1_target = 1e-8\n",
    "\n",
    "dx = L/(N-1)\n",
    "b = 0\n",
    "\n",
    "# initialise la stream function avec les bonnes conditions aux bords\n",
    "p0 = numpy.zeros((N,N))\n",
    "p0[-2,2:-2] = -dx"
   ]
  },
  {
   "cell_type": "code",
   "execution_count": 6,
   "metadata": {},
   "outputs": [
    {
     "name": "stdout",
     "output_type": "stream",
     "text": [
      "Number of CG iterations: 650\n"
     ]
    }
   ],
   "source": [
    "p, l1_conv = conjugate_gradient_2d(p0.copy(), b, dx, l1_target)\n",
    "\n",
    "x = numpy.linspace(0,L,N)\n",
    "y = numpy.linspace(0,L,N)\n",
    "pan = cg.p_analytical(x,y)\n",
    "\n",
    "err_p = cg.L1norm(p,pan)"
   ]
  },
  {
   "cell_type": "markdown",
   "metadata": {},
   "source": [
    "Nous remarquons que comme énoncé dans la théorie du mooc, la méthode a bien convergé en moins de $N=nx\\times ny = 41\\times 41 = 1681$ itérations. La matrice semble normale près des bords, comme nous pouvons le constater ci-dessous."
   ]
  },
  {
   "cell_type": "code",
   "execution_count": 7,
   "metadata": {},
   "outputs": [
    {
     "name": "stdout",
     "output_type": "stream",
     "text": [
      "[[ 0.          0.         -0.01032809 -0.02270893 -0.03384594]\n",
      " [ 0.          0.         -0.0142063  -0.02680656 -0.03611513]\n",
      " [ 0.          0.         -0.02009448 -0.02962738 -0.03483863]\n",
      " [ 0.          0.         -0.025      -0.025      -0.025     ]\n",
      " [ 0.          0.          0.          0.          0.        ]]\n"
     ]
    }
   ],
   "source": [
    "print(p[-5:,:5])"
   ]
  },
  {
   "cell_type": "code",
   "execution_count": 8,
   "metadata": {},
   "outputs": [
    {
     "data": {
      "image/png": "[encoded data removed]",
      "text/plain": [
       "<Figure size 576x360 with 2 Axes>"
      ]
     },
     "metadata": {},
     "output_type": "display_data"
    }
   ],
   "source": [
    "pyplot.figure(figsize=(8,5))\n",
    "pyplot.contourf(x,y,p,50,cmap=cm.viridis)\n",
    "pyplot.xlabel('$x\\ [m]$')\n",
    "pyplot.ylabel('$y\\ [m]$')\n",
    "pyplot.colorbar();"
   ]
  },
  {
   "cell_type": "markdown",
   "metadata": {},
   "source": [
    "## Valeurs de la stream function aux positions demandées"
   ]
  },
  {
   "cell_type": "markdown",
   "metadata": {},
   "source": [
    "Nous commençons par définir une fonction nous permettant d'extraire la valeur de la stream function à partir des coordonnées cartésiennes. Nous extrayons ensuite les valeurs demandées."
   ]
  },
  {
   "cell_type": "code",
   "execution_count": 9,
   "metadata": {},
   "outputs": [],
   "source": [
    "def p_at_coordinates(p,x,y):\n",
    "    \n",
    "    N = p.shape[0]\n",
    "    i = int(y*(N-1))\n",
    "    j = int(x*(N-1))\n",
    "    \n",
    "    return p[i,j]"
   ]
  },
  {
   "cell_type": "code",
   "execution_count": 10,
   "metadata": {},
   "outputs": [
    {
     "name": "stdout",
     "output_type": "stream",
     "text": [
      "La valeur en x=0.6 et y=0.2 est: -0.009404269132471282 1/s\n",
      "La valeur en x=0.6 et y=0.4 est: -0.03639304097455189 1/s\n",
      "La valeur en x=0.6 et y=0.6 est: -0.07696088947807028 1/s\n",
      "La valeur en x=0.6 et y=0.8 est: -0.10114910754336577 1/s\n"
     ]
    }
   ],
   "source": [
    "pij = p_at_coordinates(p,0.6,0.2)\n",
    "print(\"La valeur en x=0.6 et y=0.2 est:\",pij,\"1/s\")\n",
    "\n",
    "pij = p_at_coordinates(p,0.6,0.4)\n",
    "print(\"La valeur en x=0.6 et y=0.4 est:\",pij,\"1/s\")\n",
    "\n",
    "pij = p_at_coordinates(p,0.6,0.6)\n",
    "print(\"La valeur en x=0.6 et y=0.6 est:\",pij,\"1/s\")\n",
    "\n",
    "pij = p_at_coordinates(p,0.6,0.8)\n",
    "print(\"La valeur en x=0.6 et y=0.8 est:\",pij,\"1/s\")"
   ]
  },
  {
   "cell_type": "markdown",
   "metadata": {},
   "source": [
    "## Conclusions"
   ]
  },
  {
   "cell_type": "markdown",
   "metadata": {},
   "source": [
    "** TODO **"
   ]
  }
 ],
 "metadata": {
  "kernelspec": {
   "display_name": "Python 3",
   "language": "python",
   "name": "python3"
  },
  "language_info": {
   "codemirror_mode": {
    "name": "ipython",
    "version": 3
   },
   "file_extension": ".py",
   "mimetype": "text/x-python",
   "name": "python",
   "nbconvert_exporter": "python",
   "pygments_lexer": "ipython3",
   "version": "3.6.4"
  }
 },
 "nbformat": 4,
 "nbformat_minor": 2
}
