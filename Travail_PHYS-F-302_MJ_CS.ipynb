{
 "cells": [
  {
   "cell_type": "markdown",
   "metadata": {},
   "source": [
    "<h1><center>PHYS-F-302</center></h1>\n",
    "<h1><center>Partie numérique</center></h1>\n",
    "<h2><center>Cédric SCHOONEN, Maxime JAMOTTE</center></h2>"
   ]
  },
  {
   "cell_type": "markdown",
   "metadata": {},
   "source": [
    "Dans ce notebook, nous résolverons le problème donné à l'adresse https://github.com/bknaepen/MATHF314_2017/ dans le dossier Stokes. Le problème consiste à résoudre l'équation $\\Delta^2\\psi=0$ par la méthode du \"gradient conjugé\"."
   ]
  },
  {
   "cell_type": "markdown",
   "metadata": {},
   "source": [
    "## Justification physique des conditions aux bords"
   ]
  },
  {
   "cell_type": "markdown",
   "metadata": {},
   "source": [
    "Commençons par donner une justification physique au choix des conditions aux bords utilisé dans l'énoncé.\n",
    "\n",
    "Traitons d'abord les conditions placées sur les dérivées de la stream function $\\psi$. Celles-ci sont listées ci-dessous:\n",
    "\n",
    "| $\\partial_x \\psi = 0$ | $\\partial_y \\psi = 1$ | $\\partial_x \\psi = 0$ | $\\partial_y \\psi = 0$ |\n",
    "|-----------------------|-----------------------|-----------------------|-----------------------|\n",
    "| bord immobile // y    | bord mobile // x      | bord immobile // y    | bord immobile // x    |\n",
    "\n",
    "Notre argument pour justifier ces conditions est que le fluide ne \"glisse\" pas sur les parois de la cavité, i.e. La composante tangentielle à la paroi de la vitesse relative entre le fluide et le bord en question est nulle près du bord. Cet argument s'appuie sur l'existence de forces intermoléculaires entre les molécules de fluide et de la paroi, d'aspérités sur la paroi ainsi que sur la nature fluidique du fluide concerné. La logique est qu'à la fois les forces intermoléculaires et les aspérités du bord vont avoir tendance à retenir les molécules de fluide proches de la paroi immobiles par rapport à cette dernière. La fluidité du fluide va rendre cette immobilisation possible car les molécules de fluide plus éloignées de la paroi vont simplement \"rouler\" sur les molécules plus proches sans les emporter totalement avec elles. En pratique, cela implique que la vitesse tangentielle du fluide au plus proche des bords est la même que la vitesse de la paroi. Par example, la vitesse tangentielle près du bord mobile de vitesse $1$ sera $u=1$. Sachant que $ u = \\partial_y\\psi$ et $v = -\\partial_x\\psi$, nous avons bien dans notre cas $\\partial_y\\psi = u = 1$.\n",
    "\n",
    "La condition sur $\\psi$, fixée à $0$ sur tout le périmètre de la cavité, se justifie quant à elle par un autre argument. Cet argument repose sur l'imperméabilé de la paroi. En effet, si les molécules ne peuvent traverser les bords, il est nécessaire que leur vitesse normale s'annule au plus près de ces bords. Se rappelant de la relation entre $u,v$ et les dérivées de $\\psi$, nous voyons que cela implique que la dérivée de $\\psi$ dans la direction tangentielle à un bord est nulle sur ce bord. Par la continuité de $\\psi$ dans la cavité, nous avons donc que $\\psi$ prend la même valeur sur tout le périmètre de cette cavité. Comme seules les dérivées de $\\psi$ ont un sens physique, nous pouvons librement choisir de fixer cette valeur à $0$.\n",
    "\n",
    "Nous avons donc vérifié que les conditions aux bords qui ont été choisies décrivent bien la situation physique attendue."
   ]
  },
  {
   "cell_type": "markdown",
   "metadata": {},
   "source": [
    "## Discrétisation de l'opérateur bilaplacien\n",
    "\n",
    "Le bilaplacien de $\\psi$ à discrétiser s'écrit comme $\\Delta^2\\psi = \\partial_{xxxx}\\psi + 2\\partial_{xxyy}\\psi + \\partial_{yyyy}\\psi$ en supposant $\\psi$ suffisamment régulière.\n",
    "\n",
    "Nous pouvons exprimer les dérivées d'ordre 2 et 4 dans les directions $x,y$ de la façon suivante:\n",
    "\n",
    "$$ \\partial_{xx}\\psi_{i,j} = \\frac{ \\psi_{i,j+1} -2 \\psi_{i,j} + \\psi_{i,j-1} }{ (dx)^2 } + \\cal O((dx)^2) $$\n",
    "\n",
    "$$ \\partial_{yy}\\psi_{i,j} = \\frac{ \\psi_{i-1,j} -2 \\psi_{i,j} + \\psi_{i+1,j} }{ (dy)^2 } + \\cal O((dy)^2) $$\n",
    "\n",
    "$$ \\partial_{xxxx}\\psi_{i,j} = \\frac{ \\psi_{i,j+2} -4 \\psi_{i,j+1} +6 \\psi_{i,j} -4\\psi_{i,j-1} + \\psi_{i,j-2} }{ (dx)^4 } + \\cal O((dx)^2) $$\n",
    "\n",
    "$$ \\partial_{yyyy}\\psi_{i,j} = \\frac{ \\psi_{i-2,j} -4 \\psi_{i-1,j} +6 \\psi_{i,j} -4\\psi_{i+1,j} + \\psi_{i+2,j} }{ (dy)^4 } + \\cal O((dy)^2) $$\n",
    "\n",
    "Les discrétisations des dérivées secondes sont utiles pour trouver celle de la dérivée croisée $\\partial_{xxyy}\\psi$:\n",
    "\n",
    "$$ \\partial_{xxyy}\\psi_{i,j} = \\frac{ \\partial_{yy}\\psi_{i,j+1} -2 \\partial_{yy}\\psi_{i,j} + \\partial_{yy}\\psi_{i,j-1} }{ (dx)^2 } + \\cal O((dx)^2) $$\n",
    "\n",
    "En remplaçant, cela donne\n",
    "\n",
    "$$ \\partial_{xxyy}\\psi_{i,j} = \\frac{ \\frac{\\psi_{i-1,j+1} -2 \\psi_{i,j+1} + \\psi_{i+1,j+1}}{(dy)^2} + \\cal O((dy)^2)\n",
    "                                    -2\\frac{\\psi_{i-1,j  } -2 \\psi_{i,j  } + \\psi_{i+1,j  }}{(dy)^2} + \\cal O((dy)^2)\n",
    "                                    + \\frac{\\psi_{i-1,j-1} -2 \\psi_{i,j-1} + \\psi_{i+1,j-1}}{(dy)^2} + \\cal O((dy)^2)\n",
    "                                    }{(dx)^2} + \\cal O((dx)^2) $$\n",
    "$$ \\partial_{xxyy}\\psi_{i,j} = \\frac{\\psi_{i-1,j+1}  -2 \\psi_{i,j+1} +  \\psi_{i+1,j+1}\n",
    "                                     -2 \\psi_{i-1,j} +4 \\psi_{i-1,j} -2 \\psi_{i+1,j}\n",
    "                                     \\psi_{i-1,j-1}  -2 \\psi_{i,j-1} +  \\psi_{i+1,j-1}\n",
    "                                     }{(dx)^2(dy)^2} + \\cal O((dx)^2) + \\cal O((dy)^2) + \\cal O\\left(\\frac{(dx)^4}{(dy)^2}\\right) $$       \n",
    "                                     \n",
    "Les coefficients sont plus facilement visualisés dans le tableau suivant:\n",
    "\n",
    "|     || j-1 |  j  | j+1 |\n",
    "|-----||-----|-----|-----|\n",
    "| i-1 ||  1  | -2  |  1  |\n",
    "|  i  || -2  |  4  | -2  |\n",
    "| i+1 ||  1  | -2  |  1  |\n",
    "\n",
    "Notons qu'il est laborieux de montrer que les termes en $\\cal O((dx)^2)$ du numérateur se simplifient pour donner une erreur en $\\cal O\\left(\\frac{(dx)^4}{(dy)^2}\\right)$. De plus, cette preuve nous semble dénuée d'intérêt pour le sujet c'est pourquoi nous ne l'écrirons pas ici. Cependant, l'ayant faite, nous sommes interrogeables sur le sujet.\n",
    "\n",
    "Les coefficients pour le bilaplacien se résument donc *dans le cas où $dx$ = $dy$* par:\n",
    "\n",
    "|     || j-2 | j-1 |  j  | j+1 | j+2 |\n",
    "|-----||-----|-----|-----|-----|-----|\n",
    "| i-2 ||     |     |  1  |     |     |\n",
    "| i-1 ||     |  2  | -8  |  2  |     |\n",
    "|  i  ||  1  | -8  | 20  | -8  |  1  |\n",
    "| i+1 ||     |  2  | -8  |  2  |     |\n",
    "| i+2 ||     |     |  1  |     |     |"
   ]
  },
  {
   "cell_type": "markdown",
   "metadata": {
    "collapsed": true
   },
   "source": [
    "## Discrétisation des conditions aux bords\n",
    "\n",
    "Nous avons deux conditions aux bords à discrétiser. La première est $\\psi = 0$, que nous implémentons de manière évidente et correcte à tous les ordres comme \n",
    "\n",
    "$$\\psi_{i,0} = \\psi_{i,N-1} = \\psi_{0,j} = \\psi_{N-1,j} = 0 \\quad \\forall i,j=0,...,N-1$$\n",
    "\n",
    "La deuxième condition aux bords est portée sur les dérivées de $\\psi$ et prend des expressions différentes suivant le bord en question. La condition sur le bord situé en $x=0$ est $\\partial_x\\psi = 0$. Nous la discrétisons en considérant une approximation à l'ordre 1 de type forward de la dérivée en $x=0$:\n",
    "\n",
    "$$ 0 = \\partial_x\\psi_{i,0} = \\frac{-\\frac 32\\psi_{i,0} + 2\\psi_{i,1} -\\frac 12\\psi_{i,2}}{dx} + \\mathcal O((dx)^2) $$\n",
    "$$ \\psi_{i,1} = \\frac 34 \\psi_{i,0} + \\frac 14 \\psi_{i,2} + \\mathcal O((dx)^3) = \\frac 14 \\psi_{i,2} + \\mathcal O((dx)^3) $$\n",
    "\n",
    "Il est facile de voir que ce raisonnement se généralise à tous les côtés. Nous détaillons encore le côté supérieur pour lequel la condition est légèrement différente.\n",
    "\n",
    "$$ 1 = \\partial_y\\psi_{N-1,j} = \\frac{\\frac 32\\psi_{N-1,j} - 2\\psi_{N-2,j} +\\frac 12 \\psi_{N-3,j}}{dy} + \\mathcal O((dy)^2) $$\n",
    "$$ \\psi_{N-2,j} = -\\frac 12 dy + \\frac 34 \\psi_{N-1,j} + \\frac 14 \\psi_{N-3,j} + \\mathcal O((dx)^3) = -\\frac 12 dy + \\frac 14 \\psi_{N-3,j} + \\mathcal O((dx)^3) $$\n",
    "\n",
    "Nos conditions sur les dérivées se résument donc de la façon suivante:\n",
    "\n",
    "$$ \\psi_{i,1} = \\frac 14 \\psi_{i,2} + \\cal O((dx)^3) $$\n",
    "$$ \\psi_{i,N-2}        = \\frac 14 \\psi_{i,N-3} + \\cal O((dx)^3) $$\n",
    "$$ \\psi_{1,j}        =  \\frac 14 \\psi_{2,j} + \\cal O((dy)^3) $$\n",
    "$$ \\qquad \\ \\  \\psi_{N-2,j} = -\\frac 12 dy + \\frac 14 \\psi_{N-3,j} + \\mathcal O((dy)^3) $$\n",
    "\n",
    "Remarquons que l'imposition des conditions aux bords est incohérentes pour les 2 points $(N-2,1)$ et $(N-2,N-2)$ situés près des coins. En effet, ceux-ci se retrouvent deux fois dans les formules ci-dessus et se voient imposées deux valeurs différentes. Ceci amène un choix arbitraire dans notre code concernant la valeur à utiliser. Cependant, ceci n'est pas un problème physique car dans la limite $N\\rightarrow \\infty$, $dy\\rightarrow 0$ et les deux valeurs coïncident. Il nous a donc semblé plus naturel d'imposer directement la valeur la plus proche de  $0$, c'est à dire la condition donnée pour le bord parallèle à l'axe $y$."
   ]
  },
  {
   "cell_type": "markdown",
   "metadata": {},
   "source": [
    "## Implémentation de la méthode du gradient conjugé"
   ]
  },
  {
   "cell_type": "code",
   "execution_count": null,
   "metadata": {
    "collapsed": true
   },
   "outputs": [],
   "source": [
    "import time\n",
    "from matplotlib import pyplot\n",
    "import numpy\n",
    "%matplotlib inline\n",
    "from matplotlib import rcParams\n",
    "rcParams['font.family'] = 'serif'\n",
    "rcParams['font.size'] = 16\n",
    "from matplotlib import pyplot, cm"
   ]
  },
  {
   "cell_type": "markdown",
   "metadata": {},
   "source": [
    "Etant donné que nos conditions aux bords possèdent des termes homogène ($1/4$ de la ligne d'à côté) et un terme inhomogène ($-dy/2$), nous séparons la stream function en une partie $\\psi'$ obéissant aux conditions aux bords homogènes et une partie $\\psi''$, constante, contenant le terme indépendant. Le problème se scinde alors en deux parties et se résume à résoudre un problème avec un terme de source et des conditions homogènes uniquement:\n",
    "\n",
    "$$ 0 = \\Delta^2\\psi = \\Delta^2\\psi' + \\Delta^2\\psi'' \\qquad \\psi = \\psi'+\\psi'' $$\n",
    "\n",
    "$$ b' = \\Delta^2\\psi' \\qquad b' = -\\Delta^2\\psi'' $$\n",
    "\n",
    "Nous implémentons maintenant les conditions aux bords (homogènes) et le bilaplacien discrétisés plus haut. Nous implémentons également une version du bilaplacien qui force les conditions aux bord sur la matrice en entrée. L'idée est que l'algorithme du gradient conjugé prenne en compte les conditions aux bords à travers l'opérateur lui-même."
   ]
  },
  {
   "cell_type": "code",
   "execution_count": null,
   "metadata": {
    "collapsed": true
   },
   "outputs": [],
   "source": [
    "def impose_bc(p0,dy):\n",
    "    \n",
    "    p = p0.copy()\n",
    "    \n",
    "    p[:,0]  = 0\n",
    "    p[:,-1] = 0\n",
    "    p[0,:]  = 0\n",
    "    p[-1,:] = 0\n",
    "    \n",
    "    p[2:-2,1]  = 1/4*p0[2:-2,2]\n",
    "    p[2:-2,-2] = 1/4*p0[2:-2,-3]\n",
    "    p[1,2:-2]  = 1/4*p0[2,2:-2]    \n",
    "    p[-2,2:-2] = 1/4*p0[-3,2:-2] \n",
    "    \n",
    "    p[1,1] = p0[2,2]/16\n",
    "    p[1,-2] = p0[2,-3]/16\n",
    "    p[-2,1] = p0[-3,2]/16\n",
    "    p[-2,-2] = p0[-3,-3]/16\n",
    "    \n",
    "    return p"
   ]
  },
  {
   "cell_type": "code",
   "execution_count": null,
   "metadata": {
    "collapsed": true
   },
   "outputs": [],
   "source": [
    "def bilaplacian(p,dx):\n",
    "    \n",
    "    N = p.shape[0]\n",
    "    Ap = numpy.zeros((N,N))\n",
    "    \n",
    "    Ap[2:-2,2:-2] = 20*p[2:-2,2:-2]-8*(p[1:-3,2:-2]+p[2:-2,1:-3]+p[2:-2,3:-1]+p[3:-1,2:-2])+\\\n",
    "                    2*(p[1:-3,1:-3]+p[1:-3,3:-1]+p[3:-1,1:-3]+p[3:-1,3:-1])+\\\n",
    "                    1*(p[:-4,2:-2]+p[2:-2,:-4]+p[2:-2,4:]+p[4:,2:-2])\n",
    "   \n",
    "    return Ap/dx**4"
   ]
  },
  {
   "cell_type": "code",
   "execution_count": null,
   "metadata": {
    "collapsed": true
   },
   "outputs": [],
   "source": [
    "def bilaplacian_bc(p0,dx):   # Bilaplacien modifié par les conditions aux bords\n",
    "        \n",
    "    p = impose_bc(p0,dx)\n",
    "    \n",
    "    N = p.shape[0]\n",
    "    Ap = numpy.zeros((N,N))\n",
    "    \n",
    "    Ap[2:-2,2:-2] = 20*p[2:-2,2:-2]-8*(p[1:-3,2:-2]+p[2:-2,1:-3]+p[2:-2,3:-1]+p[3:-1,2:-2])+\\\n",
    "                    2*(p[1:-3,1:-3]+p[1:-3,3:-1]+p[3:-1,1:-3]+p[3:-1,3:-1])+\\\n",
    "                    1*(p[:-4,2:-2]+p[2:-2,:-4]+p[2:-2,4:]+p[4:,2:-2])\n",
    "    Ap[]\n",
    "   \n",
    "    return Ap/dx**4"
   ]
  },
  {
   "cell_type": "markdown",
   "metadata": {},
   "source": [
    "Nous récupérons et adaptons ensuite le code du mooc à notre problème."
   ]
  },
  {
   "cell_type": "code",
   "execution_count": null,
   "metadata": {
    "collapsed": true
   },
   "outputs": [],
   "source": [
    "def L1norm(new, old):\n",
    "    norm = numpy.sum(numpy.abs(new-old))\n",
    "    return norm"
   ]
  },
  {
   "cell_type": "code",
   "execution_count": null,
   "metadata": {
    "collapsed": true
   },
   "outputs": [],
   "source": [
    "def conjugate_gradient_2d(p, b, dx, l1_target):\n",
    "    '''Performs cg relaxation\n",
    "    \n",
    "    Parameters:\n",
    "    ----------\n",
    "    p : 2D array of floats\n",
    "        Initial guess\n",
    "    b : 2D array of floats\n",
    "        Source term\n",
    "    dx: float\n",
    "        Mesh spacing (same in both directions)\n",
    "    l1_target: float\n",
    "        exit criterion\n",
    "        \n",
    "    Returns:\n",
    "    -------\n",
    "    p: 2D array of float\n",
    "        Distribution after relaxation\n",
    "    '''\n",
    "    N = p.shape[0]\n",
    "    r  = numpy.zeros((N,N)) \n",
    "    Ad  = numpy.zeros((N,N)) \n",
    "    \n",
    "    l1_norm = 1\n",
    "    iterations = 0\n",
    "    l1_conv = []\n",
    "    \n",
    "    r = (b-bilaplacian_bc(p,dx))\n",
    "    d = r.copy()\n",
    "    rho = numpy.sum(r*r)\n",
    "    Ad = bilaplacian_bc(d,dx)\n",
    "    sigma = numpy.sum(d*Ad)\n",
    "    \n",
    "    while l1_norm > l1_target:\n",
    "\n",
    "        pk = p.copy()\n",
    "        rk = r.copy()\n",
    "        dk = d.copy()\n",
    "        \n",
    "        alpha = rho/sigma\n",
    "\n",
    "        p = pk + alpha*dk\n",
    "        r = rk - alpha*Ad\n",
    "        \n",
    "        rhop1 = numpy.sum(r*r)\n",
    "        beta = rhop1 / rho\n",
    "        rho = rhop1\n",
    "        \n",
    "        d = r + beta*dk\n",
    "        Ad = bilaplacian_bc(d,dx)\n",
    "        sigma = numpy.sum(d*Ad)\n",
    "    \n",
    "        l1_norm = L1norm(pk,p)\n",
    "        iterations += 1\n",
    "        l1_conv.append(l1_norm)\n",
    "    \n",
    "    print('Number of CG iterations: {0:d}'.format(iterations))\n",
    "    return p, l1_conv   "
   ]
  },
  {
   "cell_type": "markdown",
   "metadata": {},
   "source": [
    "## Calcul de la stream function qui respecte $\\Delta^2\\psi=0$"
   ]
  },
  {
   "cell_type": "markdown",
   "metadata": {},
   "source": [
    "Nous utilisons les paramètres (taille de grille, dimensions spatiales, précision désirée) imposées dans l'énoncé. "
   ]
  },
  {
   "cell_type": "code",
   "execution_count": null,
   "metadata": {
    "collapsed": true
   },
   "outputs": [],
   "source": [
    "# paramètres\n",
    "N = 41\n",
    "L = 1\n",
    "l1_target = 1e-8\n",
    "\n",
    "dx = L/(N-1)\n",
    "\n",
    "# initialisation -> on peut choisir ce qu'on veut\n",
    "pi = numpy.ones((N,N))\n",
    "\n",
    "# terme indépendant dans les conditions aux bords\n",
    "pii = numpy.zeros((N,N))\n",
    "pii[-2,2:-2] = -dx/2\n",
    "\n",
    "# résolution par gradient conjugué sur le centre (N-4)x(N-4)\n",
    "pi, l1_conv = conjugate_gradient_2d(pi, -bilaplacian(pii,dx), dx, l1_target)\n",
    "p = impose_bc(pi,dx) + pii # ajoute ensuite les deux rangées du contour"
   ]
  },
  {
   "cell_type": "markdown",
   "metadata": {},
   "source": [
    "Remarquons que la méthode ne converge pas en moins de $nx\\times ny = 41\\times 41 = 1681$ itérations, comme prévu pour la méthode du gradient conjugé selon le mooc. Cette méthode ne semble pas fonctionner pour cet opérateur, probablement pour des raisons de symétrie de l'opérateur. En effet, la méthode du gradient conjugé ne fonctionne que pour des opérateurs symétriques, comme indiqué sur la page wikipédia: https://en.wikipedia.org/wiki/Conjugate_gradient_method#Description_of_the_problem_addressed_by_conjugate_gradients (consulté le 18/05/2018).\n",
    "\n",
    "En effet, écrivons la matrice $p$ sous forme d'un vecteur. Ceci peut être réalisé en choisissant un quelconque ordre de lecture des $p_{ij}$. Avec cette notation, l'opérateur bilaplacien contenant les conditions homogènes s'écrira comme une matrice et nous pouvons vérifier sa symétrie. Notons au passage qu'une matrice symétrique reste symétrique sous permutation des éléments de la base dans laquelle elle est exprimée, rendant le raisonnement qui suit indépendant de l'ordre choisi. Intéressons-nous au carré intérieur de notre grille constituant les $(N-4)\\times(N-4)$ paramètres libres. Le vecteur des valeurs de $p$ dans ce carré est le suivant:\n",
    "\n",
    "$$ (p_{22}, \\cdots , p_{2M}, p_{32} , \\cdots , p_{MM} ) $$\n",
    "\n",
    "Tenant compte des conditions au bords homogènes, la matrice $A$ de notre opérateur a les coefficients suivants:\n",
    "\n",
    "$$ \\langle p_{22}|A|p_{23}\\rangle = -8 + 2\\frac14 = -7.5 \\qquad\\ \\ \\ $$\n",
    "$$ \\langle p_{23}|A|p_{22}\\rangle = -8 + 2\\frac14 + 1\\frac14 = -7.25 $$\n",
    "\n",
    "Ce qui en fait une matrice non symétrique. La méthode du gradient conjugé semble donc inappropriée pour ce problème et nous n'avons pas pu le reformuler de telle sorte à rendre cette méthode compatible.\n",
    "\n",
    "$$ $$\n",
    "\n",
    "Affichons ci-dessous la solution $\\psi$ calculée. Pour mieux visualiser les mouvements de fluides apparaissant dans notre système, nous affichons aussi le champ de vitesse à l'intérieur de la cavité."
   ]
  },
  {
   "cell_type": "code",
   "execution_count": null,
   "metadata": {
    "collapsed": true
   },
   "outputs": [],
   "source": [
    "x = numpy.linspace(0,L,N)\n",
    "y = numpy.linspace(0,L,N)\n",
    "\n",
    "pyplot.figure(figsize=(15,6))\n",
    "pyplot.subplot(121)\n",
    "pyplot.contourf(x,y,p,100,cmap=cm.viridis)\n",
    "pyplot.xlabel('$x\\ [m]$')\n",
    "pyplot.ylabel('$y\\ [m]$')\n",
    "pyplot.colorbar();\n",
    "\n",
    "dy = dx\n",
    "x = numpy.linspace(0,L-dx,N-1)\n",
    "y = numpy.linspace(dy,L,N-1)\n",
    "vx = numpy.zeros((N-1,N-1))\n",
    "vy = numpy.zeros((N-1,N-1))\n",
    "\n",
    "vx =  (p[1:,:-1] - p[:-1,:-1])/dy\n",
    "vy = -(p[1:,1:] - p[1:,:-1])/dx\n",
    "\n",
    "pyplot.subplot(122)\n",
    "pyplot.quiver(x,y,vx,vy,color='C0');"
   ]
  },
  {
   "cell_type": "markdown",
   "metadata": {},
   "source": [
    "Nous remarquons plusieurs choses sur les images ci-dessus. Le schéma de gauche semble correspondre à ce qui a été suggéré dans les énoncés comme solution finale. Nous notons en plus du côté où la dérivée $\\frac{\\partial \\psi}{\\partial y} = 1$ une plus forte variation de couleur que partout ailleurs dans l'image. Ceci permet de comprendre que la vitesse selon $x$ est plus élevée qu'aux autres endroits du système. La figure de droite permet de connaître l'intensité et la direction des vecteurs de vitesse en chaque noeud de la grille du système. Les vitesses correspondent bien à ce à quoi nous nous attendions, c'est-à-dire une rotation du fluide dans la cellule, entraînée par le mouvement du côté supérieur. Le sens de rotation correspond également à nos attentes, le côté supérieur se déplaçant vers la droite.\n",
    "\n",
    "Par ailleurs, nous voyons que les conditions aux bords sur $\\psi$ et sur ses dérivées en $x$ et $y$ sont respectées; tout est bien égal à zéro le long des bords et les dérivées semblent s'annuler le long de ceux-ci outre le long du bord supérieur (nous constatons cela grâce à la coloration et la légende). Pour plus de détail, nous avons affiché ci-dessous les valeurs de la matrice dans les coins."
   ]
  },
  {
   "cell_type": "code",
   "execution_count": null,
   "metadata": {
    "collapsed": true
   },
   "outputs": [],
   "source": [
    "print(p[-5:,:5])\n",
    "print(p[-5:,-5:])"
   ]
  },
  {
   "cell_type": "markdown",
   "metadata": {},
   "source": [
    "Affichons maintenant le bilaplacien de notre solution pour vérifier qu'il est bien nul. Selon notre critère de sortie, la somme des valeurs absolues des différences entre les valeurs de $\\psi_{ij}$ de l'avant dernière à la dernière itération doit être inférieure à $10^{-8}$. Comme il y a environ 1000 points sur notre grille, nous déduisons que nous connaissons les valeurs $\\psi_{ij}$ avec une erreur de l'ordre $10^{-11}$. Les coefficients de la discrétisation centrée du bilaplacien n'étant pas très grand, il s'agit là de l'ordre de grandeur de la différence en un point entre le bilaplacien de notre solution $\\psi$ et sa valeur théorique devant être 0. C'est effectivement ce que nous observons:"
   ]
  },
  {
   "cell_type": "code",
   "execution_count": null,
   "metadata": {
    "collapsed": true
   },
   "outputs": [],
   "source": [
    "Ap = bilaplacian(p,dx)\n",
    "\n",
    "x = numpy.linspace(0,L,N)\n",
    "y = numpy.linspace(0,L,N)\n",
    "\n",
    "pyplot.figure(figsize=(8,5))\n",
    "pyplot.contourf(x,y,Ap*dx**4,100,cmap=cm.viridis)\n",
    "pyplot.xlabel('$x\\ [m]$')\n",
    "pyplot.ylabel('$y\\ [m]$')\n",
    "pyplot.colorbar();"
   ]
  },
  {
   "cell_type": "markdown",
   "metadata": {},
   "source": [
    "## Valeurs de la stream function aux positions demandées"
   ]
  },
  {
   "cell_type": "markdown",
   "metadata": {},
   "source": [
    "Nous commençons par définir une fonction nous permettant d'extraire la valeur de la stream function à partir des coordonnées cartésiennes. Nous extrayons ensuite les valeurs demandées."
   ]
  },
  {
   "cell_type": "code",
   "execution_count": null,
   "metadata": {
    "collapsed": true
   },
   "outputs": [],
   "source": [
    "def p_at_coordinates(p,x,y):\n",
    "    \n",
    "    N = p.shape[0]\n",
    "    i = int(y*(N-1))\n",
    "    j = int(x*(N-1))\n",
    "    #print(\"coordinates i={:d} j={:d}\".format(i,j))\n",
    "    \n",
    "    return p[i,j]"
   ]
  },
  {
   "cell_type": "code",
   "execution_count": null,
   "metadata": {
    "collapsed": true
   },
   "outputs": [],
   "source": [
    "pij = p_at_coordinates(p,0.6,0.2)\n",
    "print(\"La valeur en x=0.6 et y=0.2 est:\",pij)\n",
    "\n",
    "pij = p_at_coordinates(p,0.6,0.4)\n",
    "print(\"La valeur en x=0.6 et y=0.4 est:\",pij)\n",
    "\n",
    "pij = p_at_coordinates(p,0.6,0.6)\n",
    "print(\"La valeur en x=0.6 et y=0.6 est:\",pij)\n",
    "\n",
    "pij = p_at_coordinates(p,0.6,0.8)\n",
    "print(\"La valeur en x=0.6 et y=0.8 est:\",pij)"
   ]
  },
  {
   "cell_type": "markdown",
   "metadata": {},
   "source": [
    "Nous affichons également les valeurs minimales et maximales que prend $\\psi$ dans notre cavité."
   ]
  },
  {
   "cell_type": "code",
   "execution_count": null,
   "metadata": {
    "collapsed": true
   },
   "outputs": [],
   "source": [
    "min_p = numpy.min(p)\n",
    "print(min_p)\n",
    "max_p = numpy.max(p)\n",
    "print(max_p)"
   ]
  },
  {
   "cell_type": "markdown",
   "metadata": {},
   "source": [
    "## Ordre de convergence"
   ]
  },
  {
   "cell_type": "markdown",
   "metadata": {},
   "source": [
    "Nous tenons à vérifier l'ordre de convergence de la méthode implémentée, qui devrait être du second ordre. Nous nous limiterons à aller que jusque des matrices de taille $321\\times 321$, le temps nécessaire pour des grandes matrices devenant vite beaucoup trop grand."
   ]
  },
  {
   "cell_type": "code",
   "execution_count": null,
   "metadata": {
    "collapsed": true
   },
   "outputs": [],
   "source": [
    "nx_values = [41,61,81,121,161,241,321]\n",
    "l1_target = 1e-8\n",
    "L = 1\n",
    "\n",
    "dx = numpy.zeros(len(nx_values))\n",
    "for i in range(len(dx)):\n",
    "    dx[i] = L/(nx_values[i]-1)"
   ]
  },
  {
   "cell_type": "code",
   "execution_count": null,
   "metadata": {
    "collapsed": true
   },
   "outputs": [],
   "source": [
    "error = numpy.empty(len(nx_values)-1)\n",
    "p_centre = numpy.empty(len(nx_values))\n",
    "\n",
    "for i, nx in enumerate(nx_values):\n",
    "    \n",
    "    print(\"Currently at nx =\", nx_values[i])\n",
    "    start = time.time()\n",
    "    pi = numpy.ones((nx,nx))\n",
    "    pii = numpy.zeros((nx,nx))\n",
    "    pii[-2,2:-2] = -dx[i]/2\n",
    "    pi, l1_conv = conjugate_gradient_2d(pi, -bilaplacian(pii,dx[i]), dx[i], l1_target)\n",
    "    p = impose_bc(pi,dx[i]) + pii\n",
    "    p_centre[i] = p[int(nx/2),int(nx/2)]\n",
    "    print(\"Execution time =\",time.time()-start,\"seconds\")\n",
    "\n",
    "for i, nx in enumerate(nx_values[:-1]):\n",
    "    error[i] = numpy.abs(p_centre[i]-p_centre[-1])"
   ]
  },
  {
   "cell_type": "code",
   "execution_count": null,
   "metadata": {
    "collapsed": true
   },
   "outputs": [],
   "source": [
    "pyplot.figure(figsize=(8,6))\n",
    "pyplot.grid(True)\n",
    "pyplot.xlabel(r'$dx$', fontsize=18)\n",
    "pyplot.ylabel(r'$L_1$-norm of the error', fontsize=18)\n",
    "\n",
    "pyplot.loglog(dx[:-1], error, color='k', ls='--', lw=2, marker='o',label=\"numérique\");\n",
    "pyplot.loglog(dx[:-1], dx[:-1]**2, color='r', ls='-', lw=2,label=\"O(dx^2)\");\n",
    "pyplot.loglog(dx[:-1], dx[:-1]/100, color='orange', ls='-', lw=2,label=\"O(dx)\");\n",
    "pyplot.legend(loc=2);\n",
    "pyplot.grid()"
   ]
  },
  {
   "cell_type": "code",
   "execution_count": null,
   "metadata": {
    "collapsed": true
   },
   "outputs": [],
   "source": [
    "alphas = numpy.empty(len(dx)-2)\n",
    "\n",
    "for i in range(len(alphas)):\n",
    "    \n",
    "    alphas[i] = (numpy.log(error[i+1])-numpy.log(error[i]))\\\n",
    "        /(numpy.log(dx[i+1])-numpy.log(dx[i]))\n",
    "    \n",
    "print(alphas)"
   ]
  },
  {
   "cell_type": "markdown",
   "metadata": {},
   "source": [
    "Il est difficile de se convaincre que l'ordre de convergence de notre algorithme vaut bien 2. Les tailles de matrices sont assez proches les unes des autres ce qui fait que la définition de l'erreur comme l'écart par rapport à la valeur la plus précise fait dévier la partie gauche de la courbe vers une pente plus forte et peu mener à une surestimation de l'ordre de convergence. Par contre, les plus petites matrices sont probablement assez peu représentative du comportement de l'erreur lorsqu'on affine la précision."
   ]
  },
  {
   "cell_type": "markdown",
   "metadata": {},
   "source": [
    "## Conclusions"
   ]
  },
  {
   "cell_type": "markdown",
   "metadata": {},
   "source": [
    "Le problème consistait à trouver la stream function $\\psi$ donnant le champ de vitesse d'un fluide dans une cavité bidimentionelle en résolvant l'équation biharmonique $\\Delta^2\\psi = 0$ par la méthode du gradient conjugé.\n",
    "\n",
    "Nous avons tout d'abord discrétisé notre bilaplacien à l'ordre 2. S'en est suivit la discrétisation des conditions aux bords et leur justifiaction physique, également à l'ordre 2.\n",
    "\n",
    "Nous avons ensuite implémenté la méthode du gradient conjugué en l'adaptant à notre problème et appliqué celui-ci à notre problème. Bien que nous n'ayons pas obtenu le résultat escompté en terme de nombre d'itération, la solution semblait correcte et correspondait à ce qui était suggéré dans les consignes du travail. \n",
    "\n",
    "Par après, nous avons extrait les valeurs de $\\psi$ aux points demandés.\n",
    "\n",
    "Pour finir, nous avons testé l'ordre de convergence de l'algorithme. Nous n'avons pas pu nettement conclure que la méthode était bien d'ordre 2."
   ]
  }
 ],
 "metadata": {
  "kernelspec": {
   "display_name": "Python 3",
   "language": "python",
   "name": "python3"
  },
  "language_info": {
   "codemirror_mode": {
    "name": "ipython",
    "version": 3
   },
   "file_extension": ".py",
   "mimetype": "text/x-python",
   "name": "python",
   "nbconvert_exporter": "python",
   "pygments_lexer": "ipython3",
   "version": "3.6.2"
  }
 },
 "nbformat": 4,
 "nbformat_minor": 2
}
