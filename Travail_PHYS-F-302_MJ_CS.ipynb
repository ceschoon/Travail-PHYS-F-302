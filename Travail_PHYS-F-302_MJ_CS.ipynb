{
 "cells": [
  {
   "cell_type": "markdown",
   "metadata": {},
   "source": []
  },
  {
   "cell_type": "markdown",
   "metadata": {},
   "source": [
    "## Discrétisation de l'opérateur bilaplacien\n",
    "\n",
    "Le bilaplacien de $\\psi$ à discrétiser s'écrit comme $\\Delta^2\\psi = \\partial_{xxxx}\\psi + 2\\partial_{xxyy}\\psi + \\partial_{yyyy}\\psi$ en supposant $\\psi$ suffisamment régulière.\n",
    "\n",
    "Nous pouvons exprimer les dérivées d'ordre 2 et 4 dans les directions $x,y$ de la façon suivante:\n",
    "\n",
    "$$ \\partial_{xx}\\psi_{i,j} = \\frac{ \\psi_{i,j+1} -2 \\psi_{i,j} + \\psi_{i,j-1} }{ (dx)^2 } + \\cal O((dx)^2) $$\n",
    "\n",
    "$$ \\partial_{yy}\\psi_{i,j} = \\frac{ \\psi_{i-1,j} -2 \\psi_{i,j} + \\psi_{i+1,j} }{ (dy)^2 } + \\cal O((dy)^2) $$\n",
    "\n",
    "$$ \\partial_{xxxx}\\psi_{i,j} = \\frac{ \\psi_{i,j+2} -4 \\psi_{i,j+1} +6 \\psi_{i,j} -4\\psi_{i,j-1} + \\psi_{i,j-2} }{ (dx)^4 } + \\cal O((dx)^2) $$\n",
    "\n",
    "$$ \\partial_{yyyy}\\psi_{i,j} = \\frac{ \\psi_{i-2,j} -4 \\psi_{i-1,j} +6 \\psi_{i,j} -4\\psi_{i+1,j} + \\psi_{i+2,j} }{ (dy)^4 } + \\cal O((dy)^2) $$\n",
    "\n",
    "Les discrétisations des dérivées secondes sont utiles pour trouver celle de la dérivée croisée $\\partial_{xxyy}\\psi$:\n",
    "\n",
    "$$ \\partial_{xxyy}\\psi_{i,j} = \\frac{ \\partial_{yy}\\psi_{i,j+1} -2 \\partial_{yy}\\psi_{i,j} + \\partial_{yy}\\psi_{i,j-1} }{ (dx)^2 } + \\cal O((dx)^2) $$\n",
    "\n",
    "En remplaçant, cela donne\n",
    "\n",
    "$$ \\partial_{xxyy}\\psi_{i,j} = \\frac{ \\frac{\\psi_{i-1,j+1} -2 \\psi_{i,j+1} + \\psi_{i+1,j+1}}{(dy)^2} + \\cal O((dy)^2)\n",
    "                                    -2\\frac{\\psi_{i-1,j  } -2 \\psi_{i,j  } + \\psi_{i+1,j  }}{(dy)^2} + \\cal O((dy)^2)\n",
    "                                    + \\frac{\\psi_{i-1,j-1} -2 \\psi_{i,j-1} + \\psi_{i+1,j-1}}{(dy)^2} + \\cal O((dy)^2)\n",
    "                                    }{(dx)^2} + \\cal O((dx)^2) $$\n",
    "$$ \\partial_{xxyy}\\psi_{i,j} = \\frac{\\psi_{i-1,j+1}  -2 \\psi_{i,j+1} +  \\psi_{i+1,j+1}\n",
    "                                     -2 \\psi_{i-1,j} +4 \\psi_{i-1,j} -2 \\psi_{i+1,j}\n",
    "                                     \\psi_{i-1,j-1}  -2 \\psi_{i,j-1} +  \\psi_{i+1,j-1}\n",
    "                                     }{(dx)^2(dy)^2} + \\cal O((dx)^2) + \\cal O((dy)^2) + \\cal O\\left(\\frac{(dx)^4}{(dy)^2}\\right) $$       \n",
    "                                     \n",
    "Les coefficients sont plus facilement visualisés dans le tableau suivant:\n",
    "\n",
    "|     || j-1 |  j  | j+1 |\n",
    "|-----||-----|-----|-----|\n",
    "| i-1 ||  1  | -2  |  1  |\n",
    "|  i  || -2  |  4  | -2  |\n",
    "| i+1 ||  1  | -2  |  1  |\n",
    "\n",
    "Notons qu'il est laborieux de montrer que les termes en $\\cal O((dx)^2)$ du numérateur se simplifient pour donner une erreur en $\\cal O\\left(\\frac{(dx)^4}{(dy)^2}\\right)$. De plus, cette preuve nous semble dénuée d'intérêt pour le sujet c'est pourquoi nous ne l'écrirons donc pas ici. Cependant, l'ayant faite, nous sommes interrogeables sur le sujet.\n",
    "\n",
    "Les coefficients pour le bilaplacien se résument donc *dans le cas où $dx$ = $dy$* par:\n",
    "\n",
    "|     || j-2 | j-1 |  j  | j+1 | j+2 |\n",
    "|-----||-----|-----|-----|-----|-----|\n",
    "| i-2 ||     |     |  1  |     |     |\n",
    "| i-1 ||     |  2  | -8  |  2  |     |\n",
    "|  i  ||  1  | -8  | 20  | -8  |  1  |\n",
    "| i+1 ||     |  2  | -8  |  2  |     |\n",
    "| i+2 ||     |     |  1  |     |     |"
   ]
  },
  {
   "cell_type": "markdown",
   "metadata": {
    "collapsed": true
   },
   "source": [
    "## Discrétisation des conditions aux bords\n",
    "\n",
    "Nous avons deux conditions aux bords à discrétiser. La première est $\\psi = 0$, que nous implémentons de manière évidente et correcte à tous les ordres comme \n",
    "\n",
    "$$\\psi_{i,0} = \\psi_{i,N-1} = \\psi_{0,j} = \\psi_{N-1,j} = 0 \\quad \\forall i,j=0,...,N-1$$\n",
    "\n",
    "La deuxième condition aux bords est portée sur les dérivées de $\\psi$ et prend des expressions diférentes suivant le bord en question. La condition sur le bord situé en $x=0$ est $\\partial_x\\psi = 0$. Nous la discrétisons en considérant une approximation à l'ordre 1 de type forward de la dérivée en $x=0$:\n",
    "\n",
    "$$ 0 = \\partial_x\\psi_{i,0} = \\frac{-\\psi_{i,0} + \\psi_{i,1}}{dx} + \\cal O(dx) $$\n",
    "$$ \\psi_{i,1} = \\psi_{i,0} + dx\\, \\cal O(dx) = 0 + \\cal O((dx)^2)$$\n",
    "\n",
    "Nous voyons que cela revient à considérer $\\psi_{i,1} = 0$ en commettant une erreur d'ordre 2, qui est bien l'ordre ciblé. Il est facile de voir que ce raisonnement se généralise à tous les côtés, nous ne détaillerons encore le côté supérieur pour lequel la condition est légèrement différente.\n",
    "\n",
    "$$ 1 = \\partial_y\\psi_{0,j} = \\frac{-\\psi_{0,j} + \\psi_{1,j}}{dy} + \\cal O(dy) $$\n",
    "$$ \\psi_{1,j} = \\psi_{0,j} + dy + dy\\, \\cal O(dy) = dy + \\cal O((dy)^2)$$\n",
    "\n",
    "Nos conditions sur les dérivées se résument donc de la façon suivante:\n",
    "\n",
    "$$ \\psi_{i,1} \\ \\ \\ \\, = \\ \\  0 + \\cal O((dx)^2) $$\n",
    "$$ \\psi_{i,N-2}        = \\ \\  0 + \\cal O((dx)^2) $$\n",
    "$$ \\psi_{N-2,j}        = \\ \\  0 + \\cal O((dy)^2) $$\n",
    "$$ \\psi_{1,j} \\ \\ \\ \\, = dy + \\cal O((dy)^2) $$"
   ]
  },
  {
   "cell_type": "code",
   "execution_count": null,
   "metadata": {
    "collapsed": true
   },
   "outputs": [],
   "source": []
  }
 ],
 "metadata": {
  "kernelspec": {
   "display_name": "Python 3",
   "language": "python",
   "name": "python3"
  },
  "language_info": {
   "codemirror_mode": {
    "name": "ipython",
    "version": 3
   },
   "file_extension": ".py",
   "mimetype": "text/x-python",
   "name": "python",
   "nbconvert_exporter": "python",
   "pygments_lexer": "ipython3",
   "version": "3.6.2"
  }
 },
 "nbformat": 4,
 "nbformat_minor": 2
}
