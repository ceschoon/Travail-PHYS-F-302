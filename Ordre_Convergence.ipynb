{
 "cells": [
  {
   "cell_type": "markdown",
   "metadata": {},
   "source": [
    "# Calcul détaillé de l'ordre de convergence"
   ]
  },
  {
   "cell_type": "markdown",
   "metadata": {},
   "source": [
    "## Définitions"
   ]
  },
  {
   "cell_type": "code",
   "execution_count": 1,
   "metadata": {
    "collapsed": true
   },
   "outputs": [],
   "source": [
    "import time\n",
    "from matplotlib import pyplot\n",
    "import numpy\n",
    "import pandas\n",
    "%matplotlib inline\n",
    "from matplotlib import rcParams\n",
    "rcParams['font.family'] = 'serif'\n",
    "rcParams['font.size'] = 16\n",
    "from matplotlib import pyplot, cm"
   ]
  },
  {
   "cell_type": "code",
   "execution_count": 2,
   "metadata": {
    "collapsed": true
   },
   "outputs": [],
   "source": [
    "import Conjugate_Gradient as cg"
   ]
  },
  {
   "cell_type": "code",
   "execution_count": 3,
   "metadata": {
    "collapsed": true
   },
   "outputs": [],
   "source": [
    "def bilaplacian(p,dx):\n",
    "        \n",
    "    N = p.shape[0]\n",
    "    Ap = numpy.zeros((N,N))\n",
    "    \n",
    "    Ap[2:-2,2:-2] = 20*p[2:-2,2:-2]-8*(p[1:-3,2:-2]+p[2:-2,1:-3]+p[2:-2,3:-1]+p[3:-1,2:-2])+\\\n",
    "                    2*(p[1:-3,1:-3]+p[1:-3,3:-1]+p[3:-1,1:-3]+p[3:-1,3:-1])+\\\n",
    "                    1*(p[:-4,2:-2]+p[2:-2,:-4]+p[2:-2,4:]+p[4:,2:-2])\n",
    "    \n",
    "    return Ap/dx**4"
   ]
  },
  {
   "cell_type": "code",
   "execution_count": 4,
   "metadata": {
    "collapsed": true
   },
   "outputs": [],
   "source": [
    "def impose_bc(p,dy):\n",
    "    \n",
    "    p0 = p.copy()\n",
    "    N = len(p)\n",
    "    \n",
    "    p[:,1]      =       0 + 1/4*p0[:,2]\n",
    "    p[:,N-2]    =       0 + 1/4*p0[:,N-2]\n",
    "    p[1,2:-2]   =       0 + 1/4*p0[2,2:-2]\n",
    "    p[N-2,2:-2] = -1/2*dy + 1/4*p0[N-2,2:-2]"
   ]
  },
  {
   "cell_type": "code",
   "execution_count": 5,
   "metadata": {
    "collapsed": true
   },
   "outputs": [],
   "source": [
    "def conjugate_gradient_2d(p, b, dx, l1_target):\n",
    "    '''Performs cg relaxation\n",
    "    Assumes Dirichlet boundary conditions p=0\n",
    "    \n",
    "    Parameters:\n",
    "    ----------\n",
    "    p : 2D array of floats\n",
    "        Initial guess\n",
    "    b : 2D array of floats\n",
    "        Source term\n",
    "    dx: float\n",
    "        Mesh spacing (same in both directions)\n",
    "    l1_target: float\n",
    "        exit criterion\n",
    "        \n",
    "    Returns:\n",
    "    -------\n",
    "    p: 2D array of float\n",
    "        Distribution after relaxation\n",
    "    '''\n",
    "    N = p.shape[0]\n",
    "    r  = numpy.zeros((N,N)) # residual\n",
    "    Ad  = numpy.zeros((N,N)) # to store result of matrix multiplication \n",
    "    \n",
    "    l1_norm = 1\n",
    "    iterations = 0\n",
    "    l1_conv = []\n",
    "    \n",
    "    # Step-0 We compute the initial residual and \n",
    "    # the first search direction is just this residual\n",
    "    \n",
    "    r = b-bilaplacian(p,dx)\n",
    "    d = r.copy()\n",
    "    rho = numpy.sum(r*r)\n",
    "    Ad = bilaplacian(d,dx)\n",
    "    sigma = numpy.sum(d*Ad)\n",
    "    \n",
    "    # Iterations\n",
    "    while l1_norm > l1_target:\n",
    "\n",
    "        pk = p.copy()\n",
    "        rk = r.copy()\n",
    "        dk = d.copy()\n",
    "        \n",
    "        alpha = rho/sigma\n",
    "\n",
    "        p = pk + alpha*dk\n",
    "        r = rk- alpha*Ad\n",
    "        \n",
    "        rhop1 = numpy.sum(r*r)\n",
    "        beta = rhop1 / rho\n",
    "        rho = rhop1\n",
    "        \n",
    "        d = r + beta*dk\n",
    "        Ad = bilaplacian(d,dx)\n",
    "        sigma = numpy.sum(d*Ad)\n",
    "        \n",
    "        # Affirme les conditions aux bords\n",
    "        impose_bc(p,dx)\n",
    "    \n",
    "        l1_norm = cg.L1norm(pk,p)\n",
    "        iterations += 1\n",
    "        l1_conv.append(l1_norm)\n",
    "    \n",
    "    print('Number of CG iterations: {0:d}'.format(iterations))\n",
    "    return p, l1_conv   "
   ]
  },
  {
   "cell_type": "markdown",
   "metadata": {},
   "source": [
    "## Calcul"
   ]
  },
  {
   "cell_type": "code",
   "execution_count": 14,
   "metadata": {
    "collapsed": true
   },
   "outputs": [],
   "source": [
    "nx_values = [11, 16, 21, 31, 41, 61, 81, 121, 161, 241, 321, 481, 641, 961, 1281, 1921, 2561, 3841, 5121, 7681, 10241]\n",
    "l1_target = 1e-8\n",
    "L = 1\n",
    "\n",
    "dx = numpy.zeros(len(nx_values))\n",
    "for i in range(len(dx)):\n",
    "    dx[i] = L/(nx_values[i]-1)"
   ]
  },
  {
   "cell_type": "code",
   "execution_count": 15,
   "metadata": {},
   "outputs": [
    {
     "name": "stdout",
     "output_type": "stream",
     "text": [
      "Number of CG iterations: 2599\n",
      "Number of CG iterations: 29\n",
      "currently at nx=11\n",
      "Number of CG iterations: 75\n",
      "currently at nx=16\n",
      "Number of CG iterations: 146\n",
      "currently at nx=21\n",
      "Number of CG iterations: 358\n",
      "currently at nx=31\n",
      "Number of CG iterations: 648\n",
      "currently at nx=41\n",
      "Number of CG iterations: 1456\n",
      "currently at nx=61\n"
     ]
    }
   ],
   "source": [
    "start=time.time()\n",
    "\n",
    "error = numpy.empty(len(nx_values)-1)\n",
    "\n",
    "b = 0\n",
    "\n",
    "p0 = numpy.zeros((nx_values[-1],nx_values[-1]))\n",
    "impose_bc(p0,dx[i])\n",
    "p_precis, l1_conv = conjugate_gradient_2d(p0, b, dx[-1], l1_target)\n",
    "p_precis_centre = p_precis[int(nx_values[-1]/2),int(nx_values[-1]/2)]\n",
    "\n",
    "for i, nx in enumerate(nx_values[:-1]):\n",
    "    \n",
    "    p0 = numpy.zeros((nx,nx))\n",
    "    impose_bc(p0,dx[i])\n",
    "    p, l1_conv = conjugate_gradient_2d(p0, b, dx[i], l1_target)\n",
    "    p_centre = p[int(nx/2),int(nx/2)]\n",
    "    error[i] = numpy.abs(p_centre-p_precis_centre)\n",
    "    \n",
    "    # save to file\n",
    "        \n",
    "    dataError = list(zip(error))\n",
    "    df = pandas.DataFrame(data = dataError, columns=['Error'])\n",
    "    df.to_csv(\"dataError.csv\",index=False,header=True)\n",
    "    \n",
    "    print(\"currently at nx={:d}\".format(nx))\n",
    "    \n",
    "print(\"Execution time is {:.3f} seconds\".format(time.time()-start))"
   ]
  },
  {
   "cell_type": "code",
   "execution_count": 16,
   "metadata": {},
   "outputs": [
    {
     "name": "stdout",
     "output_type": "stream",
     "text": [
      "[ 0.00442996  0.00611675  0.00134424  0.00068464  0.00040006  0.00013185]\n"
     ]
    }
   ],
   "source": [
    "dataError = pandas.read_csv('dataError.csv')\n",
    "[error] = numpy.transpose(dataError.as_matrix(['Error']))\n",
    "print(error)"
   ]
  },
  {
   "cell_type": "code",
   "execution_count": 17,
   "metadata": {},
   "outputs": [
    {
     "data": {
      "image/png": "[encoded data removed]",
      "text/plain": [
       "<matplotlib.figure.Figure at 0x7f0adaf47400>"
      ]
     },
     "metadata": {},
     "output_type": "display_data"
    }
   ],
   "source": [
    "pyplot.figure(figsize=(6,6))\n",
    "pyplot.grid(True)\n",
    "pyplot.xlabel(r'$n_x$', fontsize=18)\n",
    "pyplot.ylabel(r'$L_1$-norm of the error', fontsize=18)\n",
    "\n",
    "pyplot.loglog(nx_values[:-1], error, color='k', ls='--', lw=2, marker='o');\n",
    "pyplot.grid()"
   ]
  },
  {
   "cell_type": "code",
   "execution_count": 18,
   "metadata": {},
   "outputs": [
    {
     "name": "stdout",
     "output_type": "stream",
     "text": [
      "[ 0.86107849 -5.57194412 -1.73234471 -1.9217531  -2.79371075]\n"
     ]
    }
   ],
   "source": [
    "alphas = numpy.empty(len(nx_values)-2)\n",
    "\n",
    "for i in range(len(alphas)):\n",
    "    \n",
    "    alphas[i] = (numpy.log(error[i+1])-numpy.log(error[i]))\\\n",
    "        /(numpy.log(nx_values[i+1])-numpy.log(nx_values[i]))\n",
    "    \n",
    "print(alphas)"
   ]
  },
  {
   "cell_type": "code",
   "execution_count": null,
   "metadata": {
    "collapsed": true
   },
   "outputs": [],
   "source": []
  }
 ],
 "metadata": {
  "kernelspec": {
   "display_name": "Python 3",
   "language": "python",
   "name": "python3"
  },
  "language_info": {
   "codemirror_mode": {
    "name": "ipython",
    "version": 3
   },
   "file_extension": ".py",
   "mimetype": "text/x-python",
   "name": "python",
   "nbconvert_exporter": "python",
   "pygments_lexer": "ipython3",
   "version": "3.6.2"
  }
 },
 "nbformat": 4,
 "nbformat_minor": 2
}
